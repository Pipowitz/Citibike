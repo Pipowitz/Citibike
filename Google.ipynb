{
 "cells": [
  {
   "cell_type": "markdown",
   "id": "c3843980",
   "metadata": {},
   "source": [
    "**A couple of functions meant to call the google api 200 times for each bike, car and transit routes from 200 randomly picked rides from the New York Citibike data**"
   ]
  },
  {
   "cell_type": "code",
   "execution_count": 3,
   "id": "d52e3b98",
   "metadata": {},
   "outputs": [],
   "source": [
    "import requests\n",
    "import pandas as pd\n",
    "import time\n",
    "from datetime import datetime, timedelta\n",
    "import json\n",
    "api_key=\"that's private\""
   ]
  },
  {
   "cell_type": "code",
   "execution_count": 71,
   "id": "19d9514e",
   "metadata": {},
   "outputs": [
    {
     "name": "stderr",
     "output_type": "stream",
     "text": [
      "C:\\Users\\Paul\\AppData\\Local\\Temp\\ipykernel_5784\\1542884564.py:20: FutureWarning: In a future version of pandas all arguments of concat except for the argument 'objs' will be keyword-only.\n",
      "  df=pd.concat(df_list, 1, ignore_index=True).rename(columns={0:\"Distance bike\", 1:\"Duration bike\",2:\"Distance transit\", 3:\"Duration transit\", 4:\"Distance car\", 5:\"Duration car\"})\n"
     ]
    }
   ],
   "source": [
    "# call the main function\n",
    "df=get_distances()"
   ]
  },
  {
   "cell_type": "code",
   "execution_count": 72,
   "id": "69afb010",
   "metadata": {},
   "outputs": [],
   "source": [
    "# save the df\n",
    "df.to_pickle(\"./df_maps\")"
   ]
  },
  {
   "cell_type": "code",
   "execution_count": 4,
   "id": "21997143",
   "metadata": {},
   "outputs": [],
   "source": [
    "# read the df\n",
    "df=pd.read_pickle(\"./df_maps\")"
   ]
  },
  {
   "cell_type": "code",
   "execution_count": 36,
   "id": "49cd5aa9",
   "metadata": {},
   "outputs": [
    {
     "name": "stdout",
     "output_type": "stream",
     "text": [
      "count    200.00000\n",
      "mean      -0.02500\n",
      "std        2.78625\n",
      "min       -6.00000\n",
      "25%       -2.00000\n",
      "50%        0.00000\n",
      "75%        1.00000\n",
      "max       16.00000\n",
      "dtype: float64\n",
      "0.0\n"
     ]
    }
   ],
   "source": [
    "# get the delta of the bike and transit car data\n",
    "\n",
    "# get the numerical values\n",
    "# the position depends if it's \"min\" or \"mins\"\n",
    "bike_dur=df[\"Duration bike\"].apply(lambda x:int(x[:-5]) if \"mins\" in x else int(x[:-4]))\n",
    "car_dur=df[\"Duration car\"].apply(lambda x:int(x[:-5]) if \"mins\" in x else int(x[:-4]))\n",
    "\n",
    "# calculate the delta\n",
    "dif_bike_car=bike_dur-car_dur\n",
    "\n",
    "# print the results\n",
    "print(dif_bike_car.describe())\n",
    "print(dif_bike_car.median())"
   ]
  },
  {
   "cell_type": "code",
   "execution_count": 37,
   "id": "b80edf53",
   "metadata": {},
   "outputs": [
    {
     "name": "stdout",
     "output_type": "stream",
     "text": [
      "count    200.000000\n",
      "mean      -6.662700\n",
      "std        4.940848\n",
      "min      -23.000000\n",
      "25%       -9.000000\n",
      "50%       -6.000000\n",
      "75%       -4.000000\n",
      "max        7.000000\n",
      "dtype: float64\n"
     ]
    },
    {
     "data": {
      "text/plain": [
       "-6.0"
      ]
     },
     "execution_count": 37,
     "metadata": {},
     "output_type": "execute_result"
    }
   ],
   "source": [
    "# get the delta of the bike and transit travel data\n",
    "\n",
    "# get the mean of the transit duration values\n",
    "transit_mean=df[\"Duration transit\"].apply(lambda x:int(x[:-5]) if \"mins\" in x else 0).mean()\n",
    "\n",
    "# turn the duration values into strings\n",
    "# necessary as there are some nan values which have been turned to zeros\n",
    "df[\"Duration transit\"]=df[\"Duration transit\"].apply(lambda x:str(x))\n",
    "\n",
    "# get the numerical values\n",
    "# the position depends if it's \"min\" or \"mins\"\n",
    "bike_dur=df[\"Duration bike\"].apply(lambda x:int(x[:-5]) if \"mins\" in x else int(x[:-4]))\n",
    "\n",
    "# get the numerical values\n",
    "# if it's zero, get the transit mean\n",
    "trans_dur=df[\"Duration transit\"].apply(lambda x:int(x[:-5]) if \"mins\" in x else transit_mean)\n",
    "\n",
    "# calculate the delta\n",
    "dif_bike_trans=bike_dur-trans_dur\n",
    "\n",
    "# print the results\n",
    "print(dif_bike_trans.describe())\n",
    "dif_bike_trans.median()"
   ]
  },
  {
   "cell_type": "code",
   "execution_count": 3,
   "id": "4b09b08c",
   "metadata": {},
   "outputs": [],
   "source": [
    "def get_data():\n",
    "    \"\"\"\n",
    "    read the ny data and extract 200 random samples\n",
    "    \n",
    "    inputs:\n",
    "      - row: a df row\n",
    "    returns:\n",
    "      - df_sample: a df containing 200 random datapoints\n",
    "    \"\"\"\n",
    "    # read the ny df\n",
    "    df_blank=pd.read_pickle(\"./df_blank.pkl\")\n",
    "    # exclude the blank rows\n",
    "    df_blank=df_blank[~df_blank.isnull().any(axis=1)]\n",
    "    # exclude quebec\n",
    "    df_ny=df_blank[df_blank['start station latitude']<45]\n",
    "    # get 200 random samples\n",
    "    df_sample=df_ny[df_ny[\"usertype\"]==\"Subscriber\"].sample(n=200)\n",
    "    \n",
    "    return df_sample"
   ]
  },
  {
   "cell_type": "code",
   "execution_count": 4,
   "id": "f42c981b",
   "metadata": {},
   "outputs": [],
   "source": [
    "def get_coordinates(row):\n",
    "    \"\"\"\n",
    "    extract start and end longitude and latitude from the rows\n",
    "    and turns them into a string usable by the api\n",
    "    \n",
    "    inputs:\n",
    "      - row: a df row\n",
    "    returns:\n",
    "      - start: the starting coordinates\n",
    "      - end: the end coordinates\n",
    "    \"\"\"\n",
    "    start=str(row[\"start station latitude\"]) +\",\"+ str(row[\"start station longitude\"])\n",
    "    end=str(row[\"end station latitude\"]) +\",\"+ str(row[\"end station longitude\"])\n",
    "    \n",
    "    return start, end"
   ]
  },
  {
   "cell_type": "code",
   "execution_count": 31,
   "id": "c0981d79",
   "metadata": {},
   "outputs": [],
   "source": [
    "def create_start_time(date):\n",
    "    \"\"\"\n",
    "    create the departure time for the api\n",
    "    as google wont take historical data the timestamp has to be in the future\n",
    "    makes sure it's the same time (h:m:s) as well as the same weekday\n",
    "    \n",
    "    inputs:\n",
    "      - date: a string containing the full date including the time\n",
    "    returns:\n",
    "      - df: a pandas dataframe containing the distance and duration for\n",
    "              cars, bikes and transit and the starttime of the call\n",
    "    \"\"\"\n",
    "\n",
    "    form='%Y-%m-%d %H:%M:%S'\n",
    "    \n",
    "    # omits the miliseconds\n",
    "    date=datetime.strptime(date[:-5], form)\n",
    "    \n",
    "    # adds year and month from the date\n",
    "    year=str(datetime.now().year)\n",
    "    month=str(datetime.now().month)\n",
    "    \n",
    "    # the starttime needs to have the same weekday\n",
    "    # makes sure to add the right amount of days to the current day\n",
    "    date_delta=7+date.weekday()-datetime.now().weekday()\n",
    "    day=str(datetime.now().day+date_delta)\n",
    "    \n",
    "    # adds hour, minute and second from the date\n",
    "    hour=str(date.hour)\n",
    "    minute=str(date.minute)\n",
    "    second=str(date.second)\n",
    "    \n",
    "    # add the variables to form the date string\n",
    "    date_str=year+\"-\"+month+\"-\"+day+\" \"+hour+\":\"+minute+\":\"+second\n",
    "    \n",
    "    # turns the date string into a datetime object\n",
    "    # than into a timestamp, which is turned into an int and finally to a string\n",
    "    # also adds six hours due to time zones\n",
    "    start_time=str(int(datetime.strptime(date_str, form).timestamp()+timedelta(hours=6).seconds))\n",
    "\n",
    "    return start_time"
   ]
  },
  {
   "cell_type": "code",
   "execution_count": 70,
   "id": "db7e09f9",
   "metadata": {},
   "outputs": [],
   "source": [
    "def get_distances():\n",
    "    \"\"\"\n",
    "    gets the sample dataframe and iterates through the rows\n",
    "    calling the functions for the extraction of duration and distance information\n",
    "    and turning them into dataframes\n",
    "    \n",
    "    returns:\n",
    "      - df: a pandas dataframe containing the distance and duration for\n",
    "              cars, bikes and transit and the starttime of the call\n",
    "    \"\"\"\n",
    "    \n",
    "    # initialize the lists\n",
    "    bike=[]\n",
    "    transit=[]\n",
    "    car=[]\n",
    "    \n",
    "    # get the sample df\n",
    "    df_sample=get_data()\n",
    "    \n",
    "    #iterate through the rows\n",
    "    for i, row in df_sample.iterrows():\n",
    "        \n",
    "        # extract the coordinates\n",
    "        start, end=get_coordinates(row)\n",
    "        \n",
    "        # extract the start time\n",
    "        starttime=create_start_time(row[\"starttime\"])\n",
    "        \n",
    "        # create the urls\n",
    "        url_bike, url_transit, url_car=create_urls(start, end, start_time)\n",
    "        \n",
    "        # get the responses through the api\n",
    "        response_bike, response_transit, response_car=get_response(url_bike, url_transit, url_car)\n",
    "        \n",
    "        # append the results to a list\n",
    "        bike.append(extract_distance_and_duration(response_to_dict(response_bike)))\n",
    "        transit.append(extract_distance_and_duration(response_to_dict(response_transit)))\n",
    "        car.append(extract_distance_and_duration(response_to_dict(response_car)))\n",
    "    \n",
    "    # turn the lists to dataframes\n",
    "    bike_df=pd.DataFrame(bike)\n",
    "    transit_df=pd.DataFrame(transit)\n",
    "    car_df=pd.DataFrame(car)\n",
    "    \n",
    "    # concat the dataframes\n",
    "    df_list=[bike_df, transit_df, car_df]\n",
    "    df=pd.concat(df_list, 1, ignore_index=True).rename(columns={0:\"Distance bike\", 1:\"Duration bike\",2:\"Distance transit\", 3:\"Duration transit\", 4:\"Distance car\", 5:\"Duration car\"})\n",
    "    \n",
    "    # add the starttime\n",
    "    df[\"starttime\"]=df_sample[\"starttime\"].apply(lambda x:x[11:19])\n",
    "    \n",
    "    return df"
   ]
  },
  {
   "cell_type": "code",
   "execution_count": 9,
   "id": "ea21f785",
   "metadata": {},
   "outputs": [],
   "source": [
    "def create_urls(start, end, start_time):\n",
    "    \"\"\"\n",
    "    creates the urls necessary for the api calls\n",
    "    \n",
    "    inputs:\n",
    "      - start: the starting coordinates\n",
    "      - end: the goal coordinates\n",
    "      - start_time: the timestamp\n",
    "      \n",
    "    returns:\n",
    "      - url_bike: the url for the bike call\n",
    "      - url_transit: the url for the transit call\n",
    "      - url_car: the url for the car call\n",
    "    \"\"\"\n",
    "    \n",
    "    # build the url strings\n",
    "    url_bike = (\"https://maps.googleapis.com/maps/api/directions/json?\"\n",
    "            \"origin=\"+start+\n",
    "            \"&destination=\"+end+\n",
    "            \"&departure_time=\"+start_time+\n",
    "            \"&mode=bicycling\"\n",
    "            \"&key=\"+api_key)\n",
    "\n",
    "    url_transit = (\"https://maps.googleapis.com/maps/api/directions/json?\"\n",
    "            \"origin=\"+start+\n",
    "            \"&destination=\"+end+\n",
    "            \"&departure_time=\"+start_time+\n",
    "            \"&mode=transit\"\n",
    "            \"&key=\"+api_key)\n",
    "\n",
    "    url_car = (\"https://maps.googleapis.com/maps/api/directions/json?\"\n",
    "            \"origin=\"+start+\n",
    "            \"&destination=\"+end+\n",
    "            \"&departure_time=\"+start_time+\n",
    "            \"&mode=driving\"\n",
    "            \"&key=\"+api_key)\n",
    "\n",
    "    return url_bike, url_transit, url_car"
   ]
  },
  {
   "cell_type": "code",
   "execution_count": 10,
   "id": "e119bf72",
   "metadata": {},
   "outputs": [],
   "source": [
    "def get_response(url_bike, url_transit, url_car):\n",
    "    \"\"\"\n",
    "    get the response through the api\n",
    "    \n",
    "    inputs:\n",
    "      - url_bike: the url for the bike call\n",
    "      - url_transit: the url for the transit call\n",
    "      - url_car: the url for the car call\n",
    "      \n",
    "    returns:\n",
    "      - response_bike: the response of the bike call\n",
    "      - response_transit: the response of the transit call\n",
    "      - response_car: the response of the car call\n",
    "    \"\"\"\n",
    "    payload={}\n",
    "    headers = {}\n",
    "\n",
    "    response_bike = requests.request(\"GET\", url_bike, headers=headers, data=payload)\n",
    "    response_transit = requests.request(\"GET\", url_transit, headers=headers, data=payload)\n",
    "    response_car = requests.request(\"GET\", url_car, headers=headers, data=payload)\n",
    "    \n",
    "    return response_bike, response_transit, response_car"
   ]
  },
  {
   "cell_type": "code",
   "execution_count": 11,
   "id": "9dd75ac4",
   "metadata": {},
   "outputs": [],
   "source": [
    "def response_to_dict(response):\n",
    "    \"\"\"\n",
    "    turn the response into a dict\n",
    "    \n",
    "    inputs:\n",
    "      -response: a response object\n",
    "    returns:\n",
    "      -obj: a dict containing the response information\n",
    "    \"\"\"\n",
    "    \n",
    "    # load the response text\n",
    "    json_string = response.text\n",
    "    \n",
    "    # turn the text into a dict\n",
    "    obj = json.loads(json_string)\n",
    "    \n",
    "    return obj"
   ]
  },
  {
   "cell_type": "code",
   "execution_count": 12,
   "id": "f692854e",
   "metadata": {},
   "outputs": [],
   "source": [
    "def extract_distance_and_duration(obj):\n",
    "    \"\"\"\n",
    "    extract the relevant information\n",
    "    \n",
    "    inputs:\n",
    "      -obj: a dict containing the response information\n",
    "    returns:\n",
    "      -dis: the distance\n",
    "      -dur: the duration\n",
    "    \"\"\"\n",
    "    \n",
    "    # extract the distance and the duration\n",
    "    try:\n",
    "        dis=obj['routes'][0][\"legs\"][0][\"distance\"][\"text\"]\n",
    "        dur=obj['routes'][0][\"legs\"][0][\"duration\"][\"text\"]\n",
    "        \n",
    "    # some calls don't have route and will return a nearly empty dict\n",
    "    except:\n",
    "        dis=0\n",
    "        dur=0\n",
    "    \n",
    "    return dis, dur"
   ]
  }
 ],
 "metadata": {
  "kernelspec": {
   "display_name": "Python 3 (ipykernel)",
   "language": "python",
   "name": "python3"
  },
  "language_info": {
   "codemirror_mode": {
    "name": "ipython",
    "version": 3
   },
   "file_extension": ".py",
   "mimetype": "text/x-python",
   "name": "python",
   "nbconvert_exporter": "python",
   "pygments_lexer": "ipython3",
   "version": "3.9.12"
  }
 },
 "nbformat": 4,
 "nbformat_minor": 5
}
